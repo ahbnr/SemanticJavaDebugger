{
 "cells": [
  {
   "cell_type": "markdown",
   "id": "384e55bc-9ce8-426b-ba99-9cce99c4c028",
   "metadata": {},
   "source": [
    "# Performance Evaluation"
   ]
  },
  {
   "cell_type": "code",
   "execution_count": 13,
   "id": "87371a86-6fda-4738-b21c-6c62615cb859",
   "metadata": {},
   "outputs": [],
   "source": [
    "import matplotlib.pyplot as plt\n",
    "import pandas as pd\n",
    "\n",
    "with pd.HDFStore('../store.h5') as store:\n",
    "  results = store['results']"
   ]
  },
  {
   "cell_type": "markdown",
   "id": "c115f7ee-d31e-4742-a6d7-0fd4409cbcc6",
   "metadata": {},
   "source": [
    "## HelloWorld Example"
   ]
  },
  {
   "cell_type": "code",
   "execution_count": 14,
   "id": "a8e4c81e-8650-4719-bc14-8a9429787852",
   "metadata": {},
   "outputs": [
    {
     "data": {
      "text/html": [
       "<div>\n",
       "<style scoped>\n",
       "    .dataframe tbody tr th:only-of-type {\n",
       "        vertical-align: middle;\n",
       "    }\n",
       "\n",
       "    .dataframe tbody tr th {\n",
       "        vertical-align: top;\n",
       "    }\n",
       "\n",
       "    .dataframe thead th {\n",
       "        text-align: right;\n",
       "    }\n",
       "</style>\n",
       "<table border=\"1\" class=\"dataframe\">\n",
       "  <thead>\n",
       "    <tr style=\"text-align: right;\">\n",
       "      <th></th>\n",
       "      <th>taskId</th>\n",
       "      <th>taskType</th>\n",
       "      <th>limitSdk</th>\n",
       "      <th>closeReferenceTypes</th>\n",
       "      <th>projectName</th>\n",
       "      <th>time</th>\n",
       "    </tr>\n",
       "  </thead>\n",
       "  <tbody>\n",
       "    <tr>\n",
       "      <th>HelloWorld-LOR</th>\n",
       "      <td>HelloWorld-LOR</td>\n",
       "      <td>Realisation</td>\n",
       "      <td>True</td>\n",
       "      <td>False</td>\n",
       "      <td>HelloWorld</td>\n",
       "      <td>0 days 00:00:03.667453</td>\n",
       "    </tr>\n",
       "    <tr>\n",
       "      <th>HelloWorld-LOS</th>\n",
       "      <td>HelloWorld-LOS</td>\n",
       "      <td>Classification</td>\n",
       "      <td>True</td>\n",
       "      <td>False</td>\n",
       "      <td>HelloWorld</td>\n",
       "      <td>0 days 00:00:03.337854</td>\n",
       "    </tr>\n",
       "    <tr>\n",
       "      <th>HelloWorld-LOK</th>\n",
       "      <td>HelloWorld-LOK</td>\n",
       "      <td>Knowledge Base Building</td>\n",
       "      <td>True</td>\n",
       "      <td>False</td>\n",
       "      <td>HelloWorld</td>\n",
       "      <td>0 days 00:00:02.501731</td>\n",
       "    </tr>\n",
       "    <tr>\n",
       "      <th>HelloWorld-LOC</th>\n",
       "      <td>HelloWorld-LOC</td>\n",
       "      <td>Consistency</td>\n",
       "      <td>True</td>\n",
       "      <td>False</td>\n",
       "      <td>HelloWorld</td>\n",
       "      <td>0 days 00:00:01.183383</td>\n",
       "    </tr>\n",
       "    <tr>\n",
       "      <th>HelloWorld-LCR</th>\n",
       "      <td>HelloWorld-LCR</td>\n",
       "      <td>Realisation</td>\n",
       "      <td>True</td>\n",
       "      <td>True</td>\n",
       "      <td>HelloWorld</td>\n",
       "      <td>0 days 00:00:03.241195</td>\n",
       "    </tr>\n",
       "    <tr>\n",
       "      <th>HelloWorld-LCS</th>\n",
       "      <td>HelloWorld-LCS</td>\n",
       "      <td>Classification</td>\n",
       "      <td>True</td>\n",
       "      <td>True</td>\n",
       "      <td>HelloWorld</td>\n",
       "      <td>0 days 00:00:03.925987</td>\n",
       "    </tr>\n",
       "    <tr>\n",
       "      <th>HelloWorld-LCK</th>\n",
       "      <td>HelloWorld-LCK</td>\n",
       "      <td>Knowledge Base Building</td>\n",
       "      <td>True</td>\n",
       "      <td>True</td>\n",
       "      <td>HelloWorld</td>\n",
       "      <td>0 days 00:00:01.924059</td>\n",
       "    </tr>\n",
       "    <tr>\n",
       "      <th>HelloWorld-LCC</th>\n",
       "      <td>HelloWorld-LCC</td>\n",
       "      <td>Consistency</td>\n",
       "      <td>True</td>\n",
       "      <td>True</td>\n",
       "      <td>HelloWorld</td>\n",
       "      <td>0 days 00:00:01.196429</td>\n",
       "    </tr>\n",
       "    <tr>\n",
       "      <th>HelloWorld-UCR</th>\n",
       "      <td>HelloWorld-UCR</td>\n",
       "      <td>Realisation</td>\n",
       "      <td>False</td>\n",
       "      <td>True</td>\n",
       "      <td>HelloWorld</td>\n",
       "      <td>0 days 00:00:15</td>\n",
       "    </tr>\n",
       "    <tr>\n",
       "      <th>HelloWorld-UCS</th>\n",
       "      <td>HelloWorld-UCS</td>\n",
       "      <td>Classification</td>\n",
       "      <td>False</td>\n",
       "      <td>True</td>\n",
       "      <td>HelloWorld</td>\n",
       "      <td>0 days 00:00:15</td>\n",
       "    </tr>\n",
       "    <tr>\n",
       "      <th>HelloWorld-UCK</th>\n",
       "      <td>HelloWorld-UCK</td>\n",
       "      <td>Knowledge Base Building</td>\n",
       "      <td>False</td>\n",
       "      <td>True</td>\n",
       "      <td>HelloWorld</td>\n",
       "      <td>0 days 00:00:05.697231</td>\n",
       "    </tr>\n",
       "    <tr>\n",
       "      <th>HelloWorld-UCC</th>\n",
       "      <td>HelloWorld-UCC</td>\n",
       "      <td>Consistency</td>\n",
       "      <td>False</td>\n",
       "      <td>True</td>\n",
       "      <td>HelloWorld</td>\n",
       "      <td>0 days 00:00:15</td>\n",
       "    </tr>\n",
       "  </tbody>\n",
       "</table>\n",
       "</div>"
      ],
      "text/plain": [
       "                        taskId                 taskType limitSdk  \\\n",
       "HelloWorld-LOR  HelloWorld-LOR              Realisation     True   \n",
       "HelloWorld-LOS  HelloWorld-LOS           Classification     True   \n",
       "HelloWorld-LOK  HelloWorld-LOK  Knowledge Base Building     True   \n",
       "HelloWorld-LOC  HelloWorld-LOC              Consistency     True   \n",
       "HelloWorld-LCR  HelloWorld-LCR              Realisation     True   \n",
       "HelloWorld-LCS  HelloWorld-LCS           Classification     True   \n",
       "HelloWorld-LCK  HelloWorld-LCK  Knowledge Base Building     True   \n",
       "HelloWorld-LCC  HelloWorld-LCC              Consistency     True   \n",
       "HelloWorld-UCR  HelloWorld-UCR              Realisation    False   \n",
       "HelloWorld-UCS  HelloWorld-UCS           Classification    False   \n",
       "HelloWorld-UCK  HelloWorld-UCK  Knowledge Base Building    False   \n",
       "HelloWorld-UCC  HelloWorld-UCC              Consistency    False   \n",
       "\n",
       "               closeReferenceTypes projectName                   time  \n",
       "HelloWorld-LOR               False  HelloWorld 0 days 00:00:03.667453  \n",
       "HelloWorld-LOS               False  HelloWorld 0 days 00:00:03.337854  \n",
       "HelloWorld-LOK               False  HelloWorld 0 days 00:00:02.501731  \n",
       "HelloWorld-LOC               False  HelloWorld 0 days 00:00:01.183383  \n",
       "HelloWorld-LCR                True  HelloWorld 0 days 00:00:03.241195  \n",
       "HelloWorld-LCS                True  HelloWorld 0 days 00:00:03.925987  \n",
       "HelloWorld-LCK                True  HelloWorld 0 days 00:00:01.924059  \n",
       "HelloWorld-LCC                True  HelloWorld 0 days 00:00:01.196429  \n",
       "HelloWorld-UCR                True  HelloWorld        0 days 00:00:15  \n",
       "HelloWorld-UCS                True  HelloWorld        0 days 00:00:15  \n",
       "HelloWorld-UCK                True  HelloWorld 0 days 00:00:05.697231  \n",
       "HelloWorld-UCC                True  HelloWorld        0 days 00:00:15  "
      ]
     },
     "execution_count": 14,
     "metadata": {},
     "output_type": "execute_result"
    }
   ],
   "source": [
    "HelloWorldResults = results[results['projectName'] == 'HelloWorld']\n",
    "\n",
    "def barChart(df: pd.DataFrame):\n",
    "    df['time'].astype('timedelta64[s]').plot.bar()\n",
    "    plt.show()\n",
    "    \n",
    "HelloWorldResults"
   ]
  },
  {
   "cell_type": "markdown",
   "id": "1078b280-4dd4-4c29-9861-bc178f25b8c0",
   "metadata": {},
   "source": [
    "### Knowledge Base Building"
   ]
  },
  {
   "cell_type": "code",
   "execution_count": 15,
   "id": "789cd3de-a6ec-4b2d-8c51-99f2d267dac9",
   "metadata": {
    "tags": []
   },
   "outputs": [
    {
     "data": {
      "image/png": "[encoded data removed]",
      "text/plain": [
       "<Figure size 432x288 with 1 Axes>"
      ]
     },
     "metadata": {
      "needs_background": "light"
     },
     "output_type": "display_data"
    },
    {
     "data": {
      "text/html": [
       "<div>\n",
       "<style scoped>\n",
       "    .dataframe tbody tr th:only-of-type {\n",
       "        vertical-align: middle;\n",
       "    }\n",
       "\n",
       "    .dataframe tbody tr th {\n",
       "        vertical-align: top;\n",
       "    }\n",
       "\n",
       "    .dataframe thead th {\n",
       "        text-align: right;\n",
       "    }\n",
       "</style>\n",
       "<table border=\"1\" class=\"dataframe\">\n",
       "  <thead>\n",
       "    <tr style=\"text-align: right;\">\n",
       "      <th></th>\n",
       "      <th>taskId</th>\n",
       "      <th>taskType</th>\n",
       "      <th>limitSdk</th>\n",
       "      <th>closeReferenceTypes</th>\n",
       "      <th>projectName</th>\n",
       "      <th>time</th>\n",
       "    </tr>\n",
       "  </thead>\n",
       "  <tbody>\n",
       "    <tr>\n",
       "      <th>HelloWorld-LOK</th>\n",
       "      <td>HelloWorld-LOK</td>\n",
       "      <td>Knowledge Base Building</td>\n",
       "      <td>True</td>\n",
       "      <td>False</td>\n",
       "      <td>HelloWorld</td>\n",
       "      <td>0 days 00:00:02.501731</td>\n",
       "    </tr>\n",
       "    <tr>\n",
       "      <th>HelloWorld-LCK</th>\n",
       "      <td>HelloWorld-LCK</td>\n",
       "      <td>Knowledge Base Building</td>\n",
       "      <td>True</td>\n",
       "      <td>True</td>\n",
       "      <td>HelloWorld</td>\n",
       "      <td>0 days 00:00:01.924059</td>\n",
       "    </tr>\n",
       "    <tr>\n",
       "      <th>HelloWorld-UCK</th>\n",
       "      <td>HelloWorld-UCK</td>\n",
       "      <td>Knowledge Base Building</td>\n",
       "      <td>False</td>\n",
       "      <td>True</td>\n",
       "      <td>HelloWorld</td>\n",
       "      <td>0 days 00:00:05.697231</td>\n",
       "    </tr>\n",
       "  </tbody>\n",
       "</table>\n",
       "</div>"
      ],
      "text/plain": [
       "                        taskId                 taskType limitSdk  \\\n",
       "HelloWorld-LOK  HelloWorld-LOK  Knowledge Base Building     True   \n",
       "HelloWorld-LCK  HelloWorld-LCK  Knowledge Base Building     True   \n",
       "HelloWorld-UCK  HelloWorld-UCK  Knowledge Base Building    False   \n",
       "\n",
       "               closeReferenceTypes projectName                   time  \n",
       "HelloWorld-LOK               False  HelloWorld 0 days 00:00:02.501731  \n",
       "HelloWorld-LCK                True  HelloWorld 0 days 00:00:01.924059  \n",
       "HelloWorld-UCK                True  HelloWorld 0 days 00:00:05.697231  "
      ]
     },
     "execution_count": 15,
     "metadata": {},
     "output_type": "execute_result"
    }
   ],
   "source": [
    "kbbuilding_results = HelloWorldResults[HelloWorldResults['taskType'] == 'Knowledge Base Building']\n",
    "\n",
    "barChart(kbbuilding_results)\n",
    "kbbuilding_results"
   ]
  },
  {
   "cell_type": "markdown",
   "id": "80b56d13-4936-4ca8-afca-5ef9327d6985",
   "metadata": {},
   "source": [
    "### Consistency"
   ]
  },
  {
   "cell_type": "code",
   "execution_count": 16,
   "id": "990b24fb-f6cd-4b56-b7cc-ee7e1443d073",
   "metadata": {
    "tags": []
   },
   "outputs": [
    {
     "data": {
      "image/png": "[encoded data removed]",
      "text/plain": [
       "<Figure size 432x288 with 1 Axes>"
      ]
     },
     "metadata": {
      "needs_background": "light"
     },
     "output_type": "display_data"
    },
    {
     "data": {
      "text/html": [
       "<div>\n",
       "<style scoped>\n",
       "    .dataframe tbody tr th:only-of-type {\n",
       "        vertical-align: middle;\n",
       "    }\n",
       "\n",
       "    .dataframe tbody tr th {\n",
       "        vertical-align: top;\n",
       "    }\n",
       "\n",
       "    .dataframe thead th {\n",
       "        text-align: right;\n",
       "    }\n",
       "</style>\n",
       "<table border=\"1\" class=\"dataframe\">\n",
       "  <thead>\n",
       "    <tr style=\"text-align: right;\">\n",
       "      <th></th>\n",
       "      <th>taskId</th>\n",
       "      <th>taskType</th>\n",
       "      <th>limitSdk</th>\n",
       "      <th>closeReferenceTypes</th>\n",
       "      <th>projectName</th>\n",
       "      <th>time</th>\n",
       "    </tr>\n",
       "  </thead>\n",
       "  <tbody>\n",
       "    <tr>\n",
       "      <th>HelloWorld-LOC</th>\n",
       "      <td>HelloWorld-LOC</td>\n",
       "      <td>Consistency</td>\n",
       "      <td>True</td>\n",
       "      <td>False</td>\n",
       "      <td>HelloWorld</td>\n",
       "      <td>0 days 00:00:01.183383</td>\n",
       "    </tr>\n",
       "    <tr>\n",
       "      <th>HelloWorld-LCC</th>\n",
       "      <td>HelloWorld-LCC</td>\n",
       "      <td>Consistency</td>\n",
       "      <td>True</td>\n",
       "      <td>True</td>\n",
       "      <td>HelloWorld</td>\n",
       "      <td>0 days 00:00:01.196429</td>\n",
       "    </tr>\n",
       "    <tr>\n",
       "      <th>HelloWorld-UCC</th>\n",
       "      <td>HelloWorld-UCC</td>\n",
       "      <td>Consistency</td>\n",
       "      <td>False</td>\n",
       "      <td>True</td>\n",
       "      <td>HelloWorld</td>\n",
       "      <td>0 days 00:00:15</td>\n",
       "    </tr>\n",
       "  </tbody>\n",
       "</table>\n",
       "</div>"
      ],
      "text/plain": [
       "                        taskId     taskType limitSdk closeReferenceTypes  \\\n",
       "HelloWorld-LOC  HelloWorld-LOC  Consistency     True               False   \n",
       "HelloWorld-LCC  HelloWorld-LCC  Consistency     True                True   \n",
       "HelloWorld-UCC  HelloWorld-UCC  Consistency    False                True   \n",
       "\n",
       "               projectName                   time  \n",
       "HelloWorld-LOC  HelloWorld 0 days 00:00:01.183383  \n",
       "HelloWorld-LCC  HelloWorld 0 days 00:00:01.196429  \n",
       "HelloWorld-UCC  HelloWorld        0 days 00:00:15  "
      ]
     },
     "execution_count": 16,
     "metadata": {},
     "output_type": "execute_result"
    }
   ],
   "source": [
    "consistency_results = HelloWorldResults[HelloWorldResults['taskType'] == 'Consistency']\n",
    "\n",
    "barChart(consistency_results)\n",
    "consistency_results"
   ]
  },
  {
   "cell_type": "markdown",
   "id": "0891af28-fa7c-4415-815b-793ea300cee1",
   "metadata": {},
   "source": [
    "### Classification"
   ]
  },
  {
   "cell_type": "code",
   "execution_count": 17,
   "id": "58526876-61b9-4ca4-8c85-4195a894a72b",
   "metadata": {
    "tags": []
   },
   "outputs": [
    {
     "data": {
      "image/png": "[encoded data removed]",
      "text/plain": [
       "<Figure size 432x288 with 1 Axes>"
      ]
     },
     "metadata": {
      "needs_background": "light"
     },
     "output_type": "display_data"
    },
    {
     "data": {
      "text/html": [
       "<div>\n",
       "<style scoped>\n",
       "    .dataframe tbody tr th:only-of-type {\n",
       "        vertical-align: middle;\n",
       "    }\n",
       "\n",
       "    .dataframe tbody tr th {\n",
       "        vertical-align: top;\n",
       "    }\n",
       "\n",
       "    .dataframe thead th {\n",
       "        text-align: right;\n",
       "    }\n",
       "</style>\n",
       "<table border=\"1\" class=\"dataframe\">\n",
       "  <thead>\n",
       "    <tr style=\"text-align: right;\">\n",
       "      <th></th>\n",
       "      <th>taskId</th>\n",
       "      <th>taskType</th>\n",
       "      <th>limitSdk</th>\n",
       "      <th>closeReferenceTypes</th>\n",
       "      <th>projectName</th>\n",
       "      <th>time</th>\n",
       "    </tr>\n",
       "  </thead>\n",
       "  <tbody>\n",
       "    <tr>\n",
       "      <th>HelloWorld-LOS</th>\n",
       "      <td>HelloWorld-LOS</td>\n",
       "      <td>Classification</td>\n",
       "      <td>True</td>\n",
       "      <td>False</td>\n",
       "      <td>HelloWorld</td>\n",
       "      <td>0 days 00:00:03.337854</td>\n",
       "    </tr>\n",
       "    <tr>\n",
       "      <th>HelloWorld-LCS</th>\n",
       "      <td>HelloWorld-LCS</td>\n",
       "      <td>Classification</td>\n",
       "      <td>True</td>\n",
       "      <td>True</td>\n",
       "      <td>HelloWorld</td>\n",
       "      <td>0 days 00:00:03.925987</td>\n",
       "    </tr>\n",
       "    <tr>\n",
       "      <th>HelloWorld-UCS</th>\n",
       "      <td>HelloWorld-UCS</td>\n",
       "      <td>Classification</td>\n",
       "      <td>False</td>\n",
       "      <td>True</td>\n",
       "      <td>HelloWorld</td>\n",
       "      <td>0 days 00:00:15</td>\n",
       "    </tr>\n",
       "  </tbody>\n",
       "</table>\n",
       "</div>"
      ],
      "text/plain": [
       "                        taskId        taskType limitSdk closeReferenceTypes  \\\n",
       "HelloWorld-LOS  HelloWorld-LOS  Classification     True               False   \n",
       "HelloWorld-LCS  HelloWorld-LCS  Classification     True                True   \n",
       "HelloWorld-UCS  HelloWorld-UCS  Classification    False                True   \n",
       "\n",
       "               projectName                   time  \n",
       "HelloWorld-LOS  HelloWorld 0 days 00:00:03.337854  \n",
       "HelloWorld-LCS  HelloWorld 0 days 00:00:03.925987  \n",
       "HelloWorld-UCS  HelloWorld        0 days 00:00:15  "
      ]
     },
     "execution_count": 17,
     "metadata": {},
     "output_type": "execute_result"
    }
   ],
   "source": [
    "classification_results = HelloWorldResults[HelloWorldResults['taskType'] == 'Classification']\n",
    "\n",
    "barChart(classification_results)\n",
    "classification_results"
   ]
  },
  {
   "cell_type": "markdown",
   "id": "99b35072-6700-4f91-9fd1-30c3bb73dd89",
   "metadata": {},
   "source": [
    "### Realisation"
   ]
  },
  {
   "cell_type": "code",
   "execution_count": 18,
   "id": "c5902a76-9c57-477e-9a50-5cd67e23d93f",
   "metadata": {
    "tags": []
   },
   "outputs": [
    {
     "data": {
      "image/png": "[encoded data removed]",
      "text/plain": [
       "<Figure size 432x288 with 1 Axes>"
      ]
     },
     "metadata": {
      "needs_background": "light"
     },
     "output_type": "display_data"
    },
    {
     "data": {
      "text/html": [
       "<div>\n",
       "<style scoped>\n",
       "    .dataframe tbody tr th:only-of-type {\n",
       "        vertical-align: middle;\n",
       "    }\n",
       "\n",
       "    .dataframe tbody tr th {\n",
       "        vertical-align: top;\n",
       "    }\n",
       "\n",
       "    .dataframe thead th {\n",
       "        text-align: right;\n",
       "    }\n",
       "</style>\n",
       "<table border=\"1\" class=\"dataframe\">\n",
       "  <thead>\n",
       "    <tr style=\"text-align: right;\">\n",
       "      <th></th>\n",
       "      <th>taskId</th>\n",
       "      <th>taskType</th>\n",
       "      <th>limitSdk</th>\n",
       "      <th>closeReferenceTypes</th>\n",
       "      <th>projectName</th>\n",
       "      <th>time</th>\n",
       "    </tr>\n",
       "  </thead>\n",
       "  <tbody>\n",
       "    <tr>\n",
       "      <th>HelloWorld-LOR</th>\n",
       "      <td>HelloWorld-LOR</td>\n",
       "      <td>Realisation</td>\n",
       "      <td>True</td>\n",
       "      <td>False</td>\n",
       "      <td>HelloWorld</td>\n",
       "      <td>0 days 00:00:03.667453</td>\n",
       "    </tr>\n",
       "    <tr>\n",
       "      <th>HelloWorld-LCR</th>\n",
       "      <td>HelloWorld-LCR</td>\n",
       "      <td>Realisation</td>\n",
       "      <td>True</td>\n",
       "      <td>True</td>\n",
       "      <td>HelloWorld</td>\n",
       "      <td>0 days 00:00:03.241195</td>\n",
       "    </tr>\n",
       "    <tr>\n",
       "      <th>HelloWorld-UCR</th>\n",
       "      <td>HelloWorld-UCR</td>\n",
       "      <td>Realisation</td>\n",
       "      <td>False</td>\n",
       "      <td>True</td>\n",
       "      <td>HelloWorld</td>\n",
       "      <td>0 days 00:00:15</td>\n",
       "    </tr>\n",
       "  </tbody>\n",
       "</table>\n",
       "</div>"
      ],
      "text/plain": [
       "                        taskId     taskType limitSdk closeReferenceTypes  \\\n",
       "HelloWorld-LOR  HelloWorld-LOR  Realisation     True               False   \n",
       "HelloWorld-LCR  HelloWorld-LCR  Realisation     True                True   \n",
       "HelloWorld-UCR  HelloWorld-UCR  Realisation    False                True   \n",
       "\n",
       "               projectName                   time  \n",
       "HelloWorld-LOR  HelloWorld 0 days 00:00:03.667453  \n",
       "HelloWorld-LCR  HelloWorld 0 days 00:00:03.241195  \n",
       "HelloWorld-UCR  HelloWorld        0 days 00:00:15  "
      ]
     },
     "execution_count": 18,
     "metadata": {},
     "output_type": "execute_result"
    }
   ],
   "source": [
    "realisation_results = HelloWorldResults[HelloWorldResults['taskType'] == 'Realisation']\n",
    "\n",
    "barChart(realisation_results)\n",
    "realisation_results"
   ]
  },
  {
   "cell_type": "code",
   "execution_count": null,
   "id": "629dd820-4417-4758-aaad-b1fae48aecc2",
   "metadata": {},
   "outputs": [],
   "source": []
  },
  {
   "cell_type": "code",
   "execution_count": null,
   "id": "420b3c9e-8e49-4f04-ae22-2cdd23b77780",
   "metadata": {},
   "outputs": [],
   "source": []
  }
 ],
 "metadata": {
  "kernelspec": {
   "display_name": "SJDB-Evalutation-Venv",
   "language": "python",
   "name": "sjdb-evalutation-venv"
  },
  "language_info": {
   "codemirror_mode": {
    "name": "ipython",
    "version": 3
   },
   "file_extension": ".py",
   "mimetype": "text/x-python",
   "name": "python",
   "nbconvert_exporter": "python",
   "pygments_lexer": "ipython3",
   "version": "3.10.2"
  }
 },
 "nbformat": 4,
 "nbformat_minor": 5
}
