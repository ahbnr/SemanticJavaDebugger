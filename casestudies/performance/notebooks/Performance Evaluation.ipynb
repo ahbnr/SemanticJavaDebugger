{
 "cells": [
  {
   "cell_type": "markdown",
   "id": "384e55bc-9ce8-426b-ba99-9cce99c4c028",
   "metadata": {},
   "source": [
    "# Performance Evaluation"
   ]
  },
  {
   "cell_type": "code",
   "execution_count": 27,
   "id": "87371a86-6fda-4738-b21c-6c62615cb859",
   "metadata": {},
   "outputs": [],
   "source": [
    "import matplotlib.pyplot as plt\n",
    "import pandas as pd\n",
    "\n",
    "with pd.HDFStore('../store.h5') as store:\n",
    "  results = store['results']\n",
    "\n",
    "def barChart(df: pd.DataFrame):\n",
    "    df['time'].astype('timedelta64[s]').plot.bar()\n",
    "    plt.show()\n",
    "\n",
    "def default_evaluation(results, task_type):\n",
    "    task_specific_results = results[results['taskType'] == task_type]\n",
    "\n",
    "    barChart(task_specific_results)\n",
    "    display(task_specific_results)\n",
    "    \n",
    "    \n",
    "def evaluate_kbbuilding(results):\n",
    "    default_evaluation(results, 'Knowledge Base Building')\n",
    "    \n",
    "def evaluate_consistency(results):\n",
    "    default_evaluation(results, 'Consistency')\n",
    "    \n",
    "def evaluate_classification(results):\n",
    "    default_evaluation(results, 'Classification')\n",
    "    \n",
    "def evaluate_realisation(results):\n",
    "    default_evaluation(results, 'Realisation')"
   ]
  },
  {
   "cell_type": "markdown",
   "id": "c115f7ee-d31e-4742-a6d7-0fd4409cbcc6",
   "metadata": {},
   "source": [
    "## HelloWorld Example"
   ]
  },
  {
   "cell_type": "code",
   "execution_count": 28,
   "id": "a8e4c81e-8650-4719-bc14-8a9429787852",
   "metadata": {
    "tags": []
   },
   "outputs": [
    {
     "data": {
      "text/html": [
       "<div>\n",
       "<style scoped>\n",
       "    .dataframe tbody tr th:only-of-type {\n",
       "        vertical-align: middle;\n",
       "    }\n",
       "\n",
       "    .dataframe tbody tr th {\n",
       "        vertical-align: top;\n",
       "    }\n",
       "\n",
       "    .dataframe thead th {\n",
       "        text-align: right;\n",
       "    }\n",
       "</style>\n",
       "<table border=\"1\" class=\"dataframe\">\n",
       "  <thead>\n",
       "    <tr style=\"text-align: right;\">\n",
       "      <th></th>\n",
       "      <th>taskId</th>\n",
       "      <th>taskType</th>\n",
       "      <th>limitSdk</th>\n",
       "      <th>closeReferenceTypes</th>\n",
       "      <th>projectName</th>\n",
       "      <th>time</th>\n",
       "    </tr>\n",
       "  </thead>\n",
       "  <tbody>\n",
       "    <tr>\n",
       "      <th>HelloWorld-LOC</th>\n",
       "      <td>HelloWorld-LOC</td>\n",
       "      <td>Consistency</td>\n",
       "      <td>True</td>\n",
       "      <td>False</td>\n",
       "      <td>HelloWorld</td>\n",
       "      <td>0 days 00:00:01.641340</td>\n",
       "    </tr>\n",
       "    <tr>\n",
       "      <th>HelloWorld-LOS</th>\n",
       "      <td>HelloWorld-LOS</td>\n",
       "      <td>Classification</td>\n",
       "      <td>True</td>\n",
       "      <td>False</td>\n",
       "      <td>HelloWorld</td>\n",
       "      <td>0 days 00:00:04.492044</td>\n",
       "    </tr>\n",
       "    <tr>\n",
       "      <th>HelloWorld-LOR</th>\n",
       "      <td>HelloWorld-LOR</td>\n",
       "      <td>Realisation</td>\n",
       "      <td>True</td>\n",
       "      <td>False</td>\n",
       "      <td>HelloWorld</td>\n",
       "      <td>0 days 00:00:04.558723</td>\n",
       "    </tr>\n",
       "    <tr>\n",
       "      <th>HelloWorld-LOK</th>\n",
       "      <td>HelloWorld-LOK</td>\n",
       "      <td>Knowledge Base Building</td>\n",
       "      <td>True</td>\n",
       "      <td>False</td>\n",
       "      <td>HelloWorld</td>\n",
       "      <td>0 days 00:00:02.429495</td>\n",
       "    </tr>\n",
       "    <tr>\n",
       "      <th>HelloWorld-LCC</th>\n",
       "      <td>HelloWorld-LCC</td>\n",
       "      <td>Consistency</td>\n",
       "      <td>True</td>\n",
       "      <td>True</td>\n",
       "      <td>HelloWorld</td>\n",
       "      <td>0 days 00:00:01.480810</td>\n",
       "    </tr>\n",
       "    <tr>\n",
       "      <th>HelloWorld-LCS</th>\n",
       "      <td>HelloWorld-LCS</td>\n",
       "      <td>Classification</td>\n",
       "      <td>True</td>\n",
       "      <td>True</td>\n",
       "      <td>HelloWorld</td>\n",
       "      <td>0 days 00:00:04.623765</td>\n",
       "    </tr>\n",
       "    <tr>\n",
       "      <th>HelloWorld-LCR</th>\n",
       "      <td>HelloWorld-LCR</td>\n",
       "      <td>Realisation</td>\n",
       "      <td>True</td>\n",
       "      <td>True</td>\n",
       "      <td>HelloWorld</td>\n",
       "      <td>0 days 00:00:04.132125</td>\n",
       "    </tr>\n",
       "    <tr>\n",
       "      <th>HelloWorld-LCK</th>\n",
       "      <td>HelloWorld-LCK</td>\n",
       "      <td>Knowledge Base Building</td>\n",
       "      <td>True</td>\n",
       "      <td>True</td>\n",
       "      <td>HelloWorld</td>\n",
       "      <td>0 days 00:00:02.433838</td>\n",
       "    </tr>\n",
       "    <tr>\n",
       "      <th>HelloWorld-UCC</th>\n",
       "      <td>HelloWorld-UCC</td>\n",
       "      <td>Consistency</td>\n",
       "      <td>False</td>\n",
       "      <td>True</td>\n",
       "      <td>HelloWorld</td>\n",
       "      <td>0 days 00:00:26.004144</td>\n",
       "    </tr>\n",
       "    <tr>\n",
       "      <th>HelloWorld-UCS</th>\n",
       "      <td>HelloWorld-UCS</td>\n",
       "      <td>Classification</td>\n",
       "      <td>False</td>\n",
       "      <td>True</td>\n",
       "      <td>HelloWorld</td>\n",
       "      <td>0 days 00:01:00</td>\n",
       "    </tr>\n",
       "    <tr>\n",
       "      <th>HelloWorld-UCR</th>\n",
       "      <td>HelloWorld-UCR</td>\n",
       "      <td>Realisation</td>\n",
       "      <td>False</td>\n",
       "      <td>True</td>\n",
       "      <td>HelloWorld</td>\n",
       "      <td>0 days 00:01:00</td>\n",
       "    </tr>\n",
       "    <tr>\n",
       "      <th>HelloWorld-UCK</th>\n",
       "      <td>HelloWorld-UCK</td>\n",
       "      <td>Knowledge Base Building</td>\n",
       "      <td>False</td>\n",
       "      <td>True</td>\n",
       "      <td>HelloWorld</td>\n",
       "      <td>0 days 00:00:07.603074</td>\n",
       "    </tr>\n",
       "  </tbody>\n",
       "</table>\n",
       "</div>"
      ],
      "text/plain": [
       "                        taskId                 taskType limitSdk  \\\n",
       "HelloWorld-LOC  HelloWorld-LOC              Consistency     True   \n",
       "HelloWorld-LOS  HelloWorld-LOS           Classification     True   \n",
       "HelloWorld-LOR  HelloWorld-LOR              Realisation     True   \n",
       "HelloWorld-LOK  HelloWorld-LOK  Knowledge Base Building     True   \n",
       "HelloWorld-LCC  HelloWorld-LCC              Consistency     True   \n",
       "HelloWorld-LCS  HelloWorld-LCS           Classification     True   \n",
       "HelloWorld-LCR  HelloWorld-LCR              Realisation     True   \n",
       "HelloWorld-LCK  HelloWorld-LCK  Knowledge Base Building     True   \n",
       "HelloWorld-UCC  HelloWorld-UCC              Consistency    False   \n",
       "HelloWorld-UCS  HelloWorld-UCS           Classification    False   \n",
       "HelloWorld-UCR  HelloWorld-UCR              Realisation    False   \n",
       "HelloWorld-UCK  HelloWorld-UCK  Knowledge Base Building    False   \n",
       "\n",
       "               closeReferenceTypes projectName                   time  \n",
       "HelloWorld-LOC               False  HelloWorld 0 days 00:00:01.641340  \n",
       "HelloWorld-LOS               False  HelloWorld 0 days 00:00:04.492044  \n",
       "HelloWorld-LOR               False  HelloWorld 0 days 00:00:04.558723  \n",
       "HelloWorld-LOK               False  HelloWorld 0 days 00:00:02.429495  \n",
       "HelloWorld-LCC                True  HelloWorld 0 days 00:00:01.480810  \n",
       "HelloWorld-LCS                True  HelloWorld 0 days 00:00:04.623765  \n",
       "HelloWorld-LCR                True  HelloWorld 0 days 00:00:04.132125  \n",
       "HelloWorld-LCK                True  HelloWorld 0 days 00:00:02.433838  \n",
       "HelloWorld-UCC                True  HelloWorld 0 days 00:00:26.004144  \n",
       "HelloWorld-UCS                True  HelloWorld        0 days 00:01:00  \n",
       "HelloWorld-UCR                True  HelloWorld        0 days 00:01:00  \n",
       "HelloWorld-UCK                True  HelloWorld 0 days 00:00:07.603074  "
      ]
     },
     "execution_count": 28,
     "metadata": {},
     "output_type": "execute_result"
    }
   ],
   "source": [
    "HelloWorldResults = results[results['projectName'] == 'HelloWorld']\n",
    "    \n",
    "HelloWorldResults"
   ]
  },
  {
   "cell_type": "markdown",
   "id": "1078b280-4dd4-4c29-9861-bc178f25b8c0",
   "metadata": {},
   "source": [
    "### Knowledge Base Building"
   ]
  },
  {
   "cell_type": "code",
   "execution_count": 29,
   "id": "789cd3de-a6ec-4b2d-8c51-99f2d267dac9",
   "metadata": {
    "tags": []
   },
   "outputs": [
    {
     "data": {
      "image/png": "[encoded data removed]",
      "text/plain": [
       "<Figure size 432x288 with 1 Axes>"
      ]
     },
     "metadata": {
      "needs_background": "light"
     },
     "output_type": "display_data"
    },
    {
     "data": {
      "text/html": [
       "<div>\n",
       "<style scoped>\n",
       "    .dataframe tbody tr th:only-of-type {\n",
       "        vertical-align: middle;\n",
       "    }\n",
       "\n",
       "    .dataframe tbody tr th {\n",
       "        vertical-align: top;\n",
       "    }\n",
       "\n",
       "    .dataframe thead th {\n",
       "        text-align: right;\n",
       "    }\n",
       "</style>\n",
       "<table border=\"1\" class=\"dataframe\">\n",
       "  <thead>\n",
       "    <tr style=\"text-align: right;\">\n",
       "      <th></th>\n",
       "      <th>taskId</th>\n",
       "      <th>taskType</th>\n",
       "      <th>limitSdk</th>\n",
       "      <th>closeReferenceTypes</th>\n",
       "      <th>projectName</th>\n",
       "      <th>time</th>\n",
       "    </tr>\n",
       "  </thead>\n",
       "  <tbody>\n",
       "    <tr>\n",
       "      <th>HelloWorld-LOK</th>\n",
       "      <td>HelloWorld-LOK</td>\n",
       "      <td>Knowledge Base Building</td>\n",
       "      <td>True</td>\n",
       "      <td>False</td>\n",
       "      <td>HelloWorld</td>\n",
       "      <td>0 days 00:00:02.429495</td>\n",
       "    </tr>\n",
       "    <tr>\n",
       "      <th>HelloWorld-LCK</th>\n",
       "      <td>HelloWorld-LCK</td>\n",
       "      <td>Knowledge Base Building</td>\n",
       "      <td>True</td>\n",
       "      <td>True</td>\n",
       "      <td>HelloWorld</td>\n",
       "      <td>0 days 00:00:02.433838</td>\n",
       "    </tr>\n",
       "    <tr>\n",
       "      <th>HelloWorld-UCK</th>\n",
       "      <td>HelloWorld-UCK</td>\n",
       "      <td>Knowledge Base Building</td>\n",
       "      <td>False</td>\n",
       "      <td>True</td>\n",
       "      <td>HelloWorld</td>\n",
       "      <td>0 days 00:00:07.603074</td>\n",
       "    </tr>\n",
       "  </tbody>\n",
       "</table>\n",
       "</div>"
      ],
      "text/plain": [
       "                        taskId                 taskType limitSdk  \\\n",
       "HelloWorld-LOK  HelloWorld-LOK  Knowledge Base Building     True   \n",
       "HelloWorld-LCK  HelloWorld-LCK  Knowledge Base Building     True   \n",
       "HelloWorld-UCK  HelloWorld-UCK  Knowledge Base Building    False   \n",
       "\n",
       "               closeReferenceTypes projectName                   time  \n",
       "HelloWorld-LOK               False  HelloWorld 0 days 00:00:02.429495  \n",
       "HelloWorld-LCK                True  HelloWorld 0 days 00:00:02.433838  \n",
       "HelloWorld-UCK                True  HelloWorld 0 days 00:00:07.603074  "
      ]
     },
     "metadata": {},
     "output_type": "display_data"
    }
   ],
   "source": [
    "evaluate_kbbuilding(HelloWorldResults)"
   ]
  },
  {
   "cell_type": "markdown",
   "id": "80b56d13-4936-4ca8-afca-5ef9327d6985",
   "metadata": {},
   "source": [
    "### Consistency"
   ]
  },
  {
   "cell_type": "code",
   "execution_count": 30,
   "id": "990b24fb-f6cd-4b56-b7cc-ee7e1443d073",
   "metadata": {
    "tags": []
   },
   "outputs": [
    {
     "data": {
      "image/png": "[encoded data removed]",
      "text/plain": [
       "<Figure size 432x288 with 1 Axes>"
      ]
     },
     "metadata": {
      "needs_background": "light"
     },
     "output_type": "display_data"
    },
    {
     "data": {
      "text/html": [
       "<div>\n",
       "<style scoped>\n",
       "    .dataframe tbody tr th:only-of-type {\n",
       "        vertical-align: middle;\n",
       "    }\n",
       "\n",
       "    .dataframe tbody tr th {\n",
       "        vertical-align: top;\n",
       "    }\n",
       "\n",
       "    .dataframe thead th {\n",
       "        text-align: right;\n",
       "    }\n",
       "</style>\n",
       "<table border=\"1\" class=\"dataframe\">\n",
       "  <thead>\n",
       "    <tr style=\"text-align: right;\">\n",
       "      <th></th>\n",
       "      <th>taskId</th>\n",
       "      <th>taskType</th>\n",
       "      <th>limitSdk</th>\n",
       "      <th>closeReferenceTypes</th>\n",
       "      <th>projectName</th>\n",
       "      <th>time</th>\n",
       "    </tr>\n",
       "  </thead>\n",
       "  <tbody>\n",
       "    <tr>\n",
       "      <th>HelloWorld-LOC</th>\n",
       "      <td>HelloWorld-LOC</td>\n",
       "      <td>Consistency</td>\n",
       "      <td>True</td>\n",
       "      <td>False</td>\n",
       "      <td>HelloWorld</td>\n",
       "      <td>0 days 00:00:01.641340</td>\n",
       "    </tr>\n",
       "    <tr>\n",
       "      <th>HelloWorld-LCC</th>\n",
       "      <td>HelloWorld-LCC</td>\n",
       "      <td>Consistency</td>\n",
       "      <td>True</td>\n",
       "      <td>True</td>\n",
       "      <td>HelloWorld</td>\n",
       "      <td>0 days 00:00:01.480810</td>\n",
       "    </tr>\n",
       "    <tr>\n",
       "      <th>HelloWorld-UCC</th>\n",
       "      <td>HelloWorld-UCC</td>\n",
       "      <td>Consistency</td>\n",
       "      <td>False</td>\n",
       "      <td>True</td>\n",
       "      <td>HelloWorld</td>\n",
       "      <td>0 days 00:00:26.004144</td>\n",
       "    </tr>\n",
       "  </tbody>\n",
       "</table>\n",
       "</div>"
      ],
      "text/plain": [
       "                        taskId     taskType limitSdk closeReferenceTypes  \\\n",
       "HelloWorld-LOC  HelloWorld-LOC  Consistency     True               False   \n",
       "HelloWorld-LCC  HelloWorld-LCC  Consistency     True                True   \n",
       "HelloWorld-UCC  HelloWorld-UCC  Consistency    False                True   \n",
       "\n",
       "               projectName                   time  \n",
       "HelloWorld-LOC  HelloWorld 0 days 00:00:01.641340  \n",
       "HelloWorld-LCC  HelloWorld 0 days 00:00:01.480810  \n",
       "HelloWorld-UCC  HelloWorld 0 days 00:00:26.004144  "
      ]
     },
     "metadata": {},
     "output_type": "display_data"
    }
   ],
   "source": [
    "evaluate_consistency(HelloWorldResults)"
   ]
  },
  {
   "cell_type": "markdown",
   "id": "0891af28-fa7c-4415-815b-793ea300cee1",
   "metadata": {},
   "source": [
    "### Classification"
   ]
  },
  {
   "cell_type": "code",
   "execution_count": 31,
   "id": "58526876-61b9-4ca4-8c85-4195a894a72b",
   "metadata": {
    "tags": []
   },
   "outputs": [
    {
     "data": {
      "image/png": "[encoded data removed]",
      "text/plain": [
       "<Figure size 432x288 with 1 Axes>"
      ]
     },
     "metadata": {
      "needs_background": "light"
     },
     "output_type": "display_data"
    },
    {
     "data": {
      "text/html": [
       "<div>\n",
       "<style scoped>\n",
       "    .dataframe tbody tr th:only-of-type {\n",
       "        vertical-align: middle;\n",
       "    }\n",
       "\n",
       "    .dataframe tbody tr th {\n",
       "        vertical-align: top;\n",
       "    }\n",
       "\n",
       "    .dataframe thead th {\n",
       "        text-align: right;\n",
       "    }\n",
       "</style>\n",
       "<table border=\"1\" class=\"dataframe\">\n",
       "  <thead>\n",
       "    <tr style=\"text-align: right;\">\n",
       "      <th></th>\n",
       "      <th>taskId</th>\n",
       "      <th>taskType</th>\n",
       "      <th>limitSdk</th>\n",
       "      <th>closeReferenceTypes</th>\n",
       "      <th>projectName</th>\n",
       "      <th>time</th>\n",
       "    </tr>\n",
       "  </thead>\n",
       "  <tbody>\n",
       "    <tr>\n",
       "      <th>HelloWorld-LOS</th>\n",
       "      <td>HelloWorld-LOS</td>\n",
       "      <td>Classification</td>\n",
       "      <td>True</td>\n",
       "      <td>False</td>\n",
       "      <td>HelloWorld</td>\n",
       "      <td>0 days 00:00:04.492044</td>\n",
       "    </tr>\n",
       "    <tr>\n",
       "      <th>HelloWorld-LCS</th>\n",
       "      <td>HelloWorld-LCS</td>\n",
       "      <td>Classification</td>\n",
       "      <td>True</td>\n",
       "      <td>True</td>\n",
       "      <td>HelloWorld</td>\n",
       "      <td>0 days 00:00:04.623765</td>\n",
       "    </tr>\n",
       "    <tr>\n",
       "      <th>HelloWorld-UCS</th>\n",
       "      <td>HelloWorld-UCS</td>\n",
       "      <td>Classification</td>\n",
       "      <td>False</td>\n",
       "      <td>True</td>\n",
       "      <td>HelloWorld</td>\n",
       "      <td>0 days 00:01:00</td>\n",
       "    </tr>\n",
       "  </tbody>\n",
       "</table>\n",
       "</div>"
      ],
      "text/plain": [
       "                        taskId        taskType limitSdk closeReferenceTypes  \\\n",
       "HelloWorld-LOS  HelloWorld-LOS  Classification     True               False   \n",
       "HelloWorld-LCS  HelloWorld-LCS  Classification     True                True   \n",
       "HelloWorld-UCS  HelloWorld-UCS  Classification    False                True   \n",
       "\n",
       "               projectName                   time  \n",
       "HelloWorld-LOS  HelloWorld 0 days 00:00:04.492044  \n",
       "HelloWorld-LCS  HelloWorld 0 days 00:00:04.623765  \n",
       "HelloWorld-UCS  HelloWorld        0 days 00:01:00  "
      ]
     },
     "metadata": {},
     "output_type": "display_data"
    }
   ],
   "source": [
    "evaluate_classification(HelloWorldResults)"
   ]
  },
  {
   "cell_type": "markdown",
   "id": "99b35072-6700-4f91-9fd1-30c3bb73dd89",
   "metadata": {},
   "source": [
    "### Realisation"
   ]
  },
  {
   "cell_type": "code",
   "execution_count": 32,
   "id": "c5902a76-9c57-477e-9a50-5cd67e23d93f",
   "metadata": {
    "tags": []
   },
   "outputs": [
    {
     "data": {
      "image/png": "[encoded data removed]",
      "text/plain": [
       "<Figure size 432x288 with 1 Axes>"
      ]
     },
     "metadata": {
      "needs_background": "light"
     },
     "output_type": "display_data"
    },
    {
     "data": {
      "text/html": [
       "<div>\n",
       "<style scoped>\n",
       "    .dataframe tbody tr th:only-of-type {\n",
       "        vertical-align: middle;\n",
       "    }\n",
       "\n",
       "    .dataframe tbody tr th {\n",
       "        vertical-align: top;\n",
       "    }\n",
       "\n",
       "    .dataframe thead th {\n",
       "        text-align: right;\n",
       "    }\n",
       "</style>\n",
       "<table border=\"1\" class=\"dataframe\">\n",
       "  <thead>\n",
       "    <tr style=\"text-align: right;\">\n",
       "      <th></th>\n",
       "      <th>taskId</th>\n",
       "      <th>taskType</th>\n",
       "      <th>limitSdk</th>\n",
       "      <th>closeReferenceTypes</th>\n",
       "      <th>projectName</th>\n",
       "      <th>time</th>\n",
       "    </tr>\n",
       "  </thead>\n",
       "  <tbody>\n",
       "    <tr>\n",
       "      <th>HelloWorld-LOR</th>\n",
       "      <td>HelloWorld-LOR</td>\n",
       "      <td>Realisation</td>\n",
       "      <td>True</td>\n",
       "      <td>False</td>\n",
       "      <td>HelloWorld</td>\n",
       "      <td>0 days 00:00:04.558723</td>\n",
       "    </tr>\n",
       "    <tr>\n",
       "      <th>HelloWorld-LCR</th>\n",
       "      <td>HelloWorld-LCR</td>\n",
       "      <td>Realisation</td>\n",
       "      <td>True</td>\n",
       "      <td>True</td>\n",
       "      <td>HelloWorld</td>\n",
       "      <td>0 days 00:00:04.132125</td>\n",
       "    </tr>\n",
       "    <tr>\n",
       "      <th>HelloWorld-UCR</th>\n",
       "      <td>HelloWorld-UCR</td>\n",
       "      <td>Realisation</td>\n",
       "      <td>False</td>\n",
       "      <td>True</td>\n",
       "      <td>HelloWorld</td>\n",
       "      <td>0 days 00:01:00</td>\n",
       "    </tr>\n",
       "  </tbody>\n",
       "</table>\n",
       "</div>"
      ],
      "text/plain": [
       "                        taskId     taskType limitSdk closeReferenceTypes  \\\n",
       "HelloWorld-LOR  HelloWorld-LOR  Realisation     True               False   \n",
       "HelloWorld-LCR  HelloWorld-LCR  Realisation     True                True   \n",
       "HelloWorld-UCR  HelloWorld-UCR  Realisation    False                True   \n",
       "\n",
       "               projectName                   time  \n",
       "HelloWorld-LOR  HelloWorld 0 days 00:00:04.558723  \n",
       "HelloWorld-LCR  HelloWorld 0 days 00:00:04.132125  \n",
       "HelloWorld-UCR  HelloWorld        0 days 00:01:00  "
      ]
     },
     "metadata": {},
     "output_type": "display_data"
    }
   ],
   "source": [
    "evaluate_realisation(HelloWorldResults)"
   ]
  },
  {
   "cell_type": "code",
   "execution_count": null,
   "id": "629dd820-4417-4758-aaad-b1fae48aecc2",
   "metadata": {},
   "outputs": [],
   "source": []
  },
  {
   "cell_type": "code",
   "execution_count": null,
   "id": "420b3c9e-8e49-4f04-ae22-2cdd23b77780",
   "metadata": {
    "tags": []
   },
   "outputs": [],
   "source": []
  },
  {
   "cell_type": "markdown",
   "id": "908c91ba-45ac-42e1-b00c-eba2f225dbe3",
   "metadata": {},
   "source": [
    "## lusearch Example"
   ]
  },
  {
   "cell_type": "code",
   "execution_count": 33,
   "id": "cead3ac7-5f37-4e6e-bc09-85b273389a70",
   "metadata": {
    "tags": []
   },
   "outputs": [
    {
     "data": {
      "text/html": [
       "<div>\n",
       "<style scoped>\n",
       "    .dataframe tbody tr th:only-of-type {\n",
       "        vertical-align: middle;\n",
       "    }\n",
       "\n",
       "    .dataframe tbody tr th {\n",
       "        vertical-align: top;\n",
       "    }\n",
       "\n",
       "    .dataframe thead th {\n",
       "        text-align: right;\n",
       "    }\n",
       "</style>\n",
       "<table border=\"1\" class=\"dataframe\">\n",
       "  <thead>\n",
       "    <tr style=\"text-align: right;\">\n",
       "      <th></th>\n",
       "      <th>taskId</th>\n",
       "      <th>taskType</th>\n",
       "      <th>limitSdk</th>\n",
       "      <th>closeReferenceTypes</th>\n",
       "      <th>projectName</th>\n",
       "      <th>time</th>\n",
       "    </tr>\n",
       "  </thead>\n",
       "  <tbody>\n",
       "    <tr>\n",
       "      <th>lusearch-LOC</th>\n",
       "      <td>lusearch-LOC</td>\n",
       "      <td>Consistency</td>\n",
       "      <td>True</td>\n",
       "      <td>False</td>\n",
       "      <td>lusearch</td>\n",
       "      <td>0 days 00:00:14.933787</td>\n",
       "    </tr>\n",
       "    <tr>\n",
       "      <th>lusearch-LOS</th>\n",
       "      <td>lusearch-LOS</td>\n",
       "      <td>Classification</td>\n",
       "      <td>True</td>\n",
       "      <td>False</td>\n",
       "      <td>lusearch</td>\n",
       "      <td>0 days 00:01:00</td>\n",
       "    </tr>\n",
       "    <tr>\n",
       "      <th>lusearch-LOR</th>\n",
       "      <td>lusearch-LOR</td>\n",
       "      <td>Realisation</td>\n",
       "      <td>True</td>\n",
       "      <td>False</td>\n",
       "      <td>lusearch</td>\n",
       "      <td>0 days 00:01:00</td>\n",
       "    </tr>\n",
       "    <tr>\n",
       "      <th>lusearch-LOK</th>\n",
       "      <td>lusearch-LOK</td>\n",
       "      <td>Knowledge Base Building</td>\n",
       "      <td>True</td>\n",
       "      <td>False</td>\n",
       "      <td>lusearch</td>\n",
       "      <td>0 days 00:00:04.408941</td>\n",
       "    </tr>\n",
       "    <tr>\n",
       "      <th>lusearch-LCC</th>\n",
       "      <td>lusearch-LCC</td>\n",
       "      <td>Consistency</td>\n",
       "      <td>True</td>\n",
       "      <td>True</td>\n",
       "      <td>lusearch</td>\n",
       "      <td>0 days 00:00:13.672833</td>\n",
       "    </tr>\n",
       "    <tr>\n",
       "      <th>lusearch-LCS</th>\n",
       "      <td>lusearch-LCS</td>\n",
       "      <td>Classification</td>\n",
       "      <td>True</td>\n",
       "      <td>True</td>\n",
       "      <td>lusearch</td>\n",
       "      <td>0 days 00:01:00</td>\n",
       "    </tr>\n",
       "    <tr>\n",
       "      <th>lusearch-LCR</th>\n",
       "      <td>lusearch-LCR</td>\n",
       "      <td>Realisation</td>\n",
       "      <td>True</td>\n",
       "      <td>True</td>\n",
       "      <td>lusearch</td>\n",
       "      <td>0 days 00:01:00</td>\n",
       "    </tr>\n",
       "    <tr>\n",
       "      <th>lusearch-LCK</th>\n",
       "      <td>lusearch-LCK</td>\n",
       "      <td>Knowledge Base Building</td>\n",
       "      <td>True</td>\n",
       "      <td>True</td>\n",
       "      <td>lusearch</td>\n",
       "      <td>0 days 00:00:06.893666</td>\n",
       "    </tr>\n",
       "    <tr>\n",
       "      <th>lusearch-UCC</th>\n",
       "      <td>lusearch-UCC</td>\n",
       "      <td>Consistency</td>\n",
       "      <td>False</td>\n",
       "      <td>True</td>\n",
       "      <td>lusearch</td>\n",
       "      <td>0 days 00:01:00</td>\n",
       "    </tr>\n",
       "    <tr>\n",
       "      <th>lusearch-UCS</th>\n",
       "      <td>lusearch-UCS</td>\n",
       "      <td>Classification</td>\n",
       "      <td>False</td>\n",
       "      <td>True</td>\n",
       "      <td>lusearch</td>\n",
       "      <td>0 days 00:01:00</td>\n",
       "    </tr>\n",
       "    <tr>\n",
       "      <th>lusearch-UCR</th>\n",
       "      <td>lusearch-UCR</td>\n",
       "      <td>Realisation</td>\n",
       "      <td>False</td>\n",
       "      <td>True</td>\n",
       "      <td>lusearch</td>\n",
       "      <td>0 days 00:01:00</td>\n",
       "    </tr>\n",
       "    <tr>\n",
       "      <th>lusearch-UCK</th>\n",
       "      <td>lusearch-UCK</td>\n",
       "      <td>Knowledge Base Building</td>\n",
       "      <td>False</td>\n",
       "      <td>True</td>\n",
       "      <td>lusearch</td>\n",
       "      <td>0 days 00:00:35.364851</td>\n",
       "    </tr>\n",
       "  </tbody>\n",
       "</table>\n",
       "</div>"
      ],
      "text/plain": [
       "                    taskId                 taskType limitSdk  \\\n",
       "lusearch-LOC  lusearch-LOC              Consistency     True   \n",
       "lusearch-LOS  lusearch-LOS           Classification     True   \n",
       "lusearch-LOR  lusearch-LOR              Realisation     True   \n",
       "lusearch-LOK  lusearch-LOK  Knowledge Base Building     True   \n",
       "lusearch-LCC  lusearch-LCC              Consistency     True   \n",
       "lusearch-LCS  lusearch-LCS           Classification     True   \n",
       "lusearch-LCR  lusearch-LCR              Realisation     True   \n",
       "lusearch-LCK  lusearch-LCK  Knowledge Base Building     True   \n",
       "lusearch-UCC  lusearch-UCC              Consistency    False   \n",
       "lusearch-UCS  lusearch-UCS           Classification    False   \n",
       "lusearch-UCR  lusearch-UCR              Realisation    False   \n",
       "lusearch-UCK  lusearch-UCK  Knowledge Base Building    False   \n",
       "\n",
       "             closeReferenceTypes projectName                   time  \n",
       "lusearch-LOC               False    lusearch 0 days 00:00:14.933787  \n",
       "lusearch-LOS               False    lusearch        0 days 00:01:00  \n",
       "lusearch-LOR               False    lusearch        0 days 00:01:00  \n",
       "lusearch-LOK               False    lusearch 0 days 00:00:04.408941  \n",
       "lusearch-LCC                True    lusearch 0 days 00:00:13.672833  \n",
       "lusearch-LCS                True    lusearch        0 days 00:01:00  \n",
       "lusearch-LCR                True    lusearch        0 days 00:01:00  \n",
       "lusearch-LCK                True    lusearch 0 days 00:00:06.893666  \n",
       "lusearch-UCC                True    lusearch        0 days 00:01:00  \n",
       "lusearch-UCS                True    lusearch        0 days 00:01:00  \n",
       "lusearch-UCR                True    lusearch        0 days 00:01:00  \n",
       "lusearch-UCK                True    lusearch 0 days 00:00:35.364851  "
      ]
     },
     "execution_count": 33,
     "metadata": {},
     "output_type": "execute_result"
    }
   ],
   "source": [
    "LuSearchResults = results[results['projectName'] == 'lusearch']\n",
    "    \n",
    "LuSearchResults"
   ]
  },
  {
   "cell_type": "markdown",
   "id": "4247737a-815b-4693-93fb-3c3b70b91640",
   "metadata": {},
   "source": [
    "### Knowledge Base Building"
   ]
  },
  {
   "cell_type": "code",
   "execution_count": 34,
   "id": "1809bf12-3c73-4d1f-acd3-3a51db9d923f",
   "metadata": {
    "tags": []
   },
   "outputs": [
    {
     "data": {
      "image/png": "[encoded data removed]",
      "text/plain": [
       "<Figure size 432x288 with 1 Axes>"
      ]
     },
     "metadata": {
      "needs_background": "light"
     },
     "output_type": "display_data"
    },
    {
     "data": {
      "text/html": [
       "<div>\n",
       "<style scoped>\n",
       "    .dataframe tbody tr th:only-of-type {\n",
       "        vertical-align: middle;\n",
       "    }\n",
       "\n",
       "    .dataframe tbody tr th {\n",
       "        vertical-align: top;\n",
       "    }\n",
       "\n",
       "    .dataframe thead th {\n",
       "        text-align: right;\n",
       "    }\n",
       "</style>\n",
       "<table border=\"1\" class=\"dataframe\">\n",
       "  <thead>\n",
       "    <tr style=\"text-align: right;\">\n",
       "      <th></th>\n",
       "      <th>taskId</th>\n",
       "      <th>taskType</th>\n",
       "      <th>limitSdk</th>\n",
       "      <th>closeReferenceTypes</th>\n",
       "      <th>projectName</th>\n",
       "      <th>time</th>\n",
       "    </tr>\n",
       "  </thead>\n",
       "  <tbody>\n",
       "    <tr>\n",
       "      <th>lusearch-LOK</th>\n",
       "      <td>lusearch-LOK</td>\n",
       "      <td>Knowledge Base Building</td>\n",
       "      <td>True</td>\n",
       "      <td>False</td>\n",
       "      <td>lusearch</td>\n",
       "      <td>0 days 00:00:04.408941</td>\n",
       "    </tr>\n",
       "    <tr>\n",
       "      <th>lusearch-LCK</th>\n",
       "      <td>lusearch-LCK</td>\n",
       "      <td>Knowledge Base Building</td>\n",
       "      <td>True</td>\n",
       "      <td>True</td>\n",
       "      <td>lusearch</td>\n",
       "      <td>0 days 00:00:06.893666</td>\n",
       "    </tr>\n",
       "    <tr>\n",
       "      <th>lusearch-UCK</th>\n",
       "      <td>lusearch-UCK</td>\n",
       "      <td>Knowledge Base Building</td>\n",
       "      <td>False</td>\n",
       "      <td>True</td>\n",
       "      <td>lusearch</td>\n",
       "      <td>0 days 00:00:35.364851</td>\n",
       "    </tr>\n",
       "  </tbody>\n",
       "</table>\n",
       "</div>"
      ],
      "text/plain": [
       "                    taskId                 taskType limitSdk  \\\n",
       "lusearch-LOK  lusearch-LOK  Knowledge Base Building     True   \n",
       "lusearch-LCK  lusearch-LCK  Knowledge Base Building     True   \n",
       "lusearch-UCK  lusearch-UCK  Knowledge Base Building    False   \n",
       "\n",
       "             closeReferenceTypes projectName                   time  \n",
       "lusearch-LOK               False    lusearch 0 days 00:00:04.408941  \n",
       "lusearch-LCK                True    lusearch 0 days 00:00:06.893666  \n",
       "lusearch-UCK                True    lusearch 0 days 00:00:35.364851  "
      ]
     },
     "metadata": {},
     "output_type": "display_data"
    }
   ],
   "source": [
    "evaluate_kbbuilding(LuSearchResults)"
   ]
  },
  {
   "cell_type": "code",
   "execution_count": null,
   "id": "71dc95a9-800a-487a-b124-ab41476f7c23",
   "metadata": {},
   "outputs": [],
   "source": []
  },
  {
   "cell_type": "markdown",
   "id": "7cab69c9-29d8-4b02-ac8c-be342f2b887c",
   "metadata": {},
   "source": [
    "### Consistency"
   ]
  },
  {
   "cell_type": "code",
   "execution_count": 35,
   "id": "ee8985c5-4629-43eb-bfef-b99ea9b1af1d",
   "metadata": {
    "tags": []
   },
   "outputs": [
    {
     "data": {
      "image/png": "[encoded data removed]",
      "text/plain": [
       "<Figure size 432x288 with 1 Axes>"
      ]
     },
     "metadata": {
      "needs_background": "light"
     },
     "output_type": "display_data"
    },
    {
     "data": {
      "text/html": [
       "<div>\n",
       "<style scoped>\n",
       "    .dataframe tbody tr th:only-of-type {\n",
       "        vertical-align: middle;\n",
       "    }\n",
       "\n",
       "    .dataframe tbody tr th {\n",
       "        vertical-align: top;\n",
       "    }\n",
       "\n",
       "    .dataframe thead th {\n",
       "        text-align: right;\n",
       "    }\n",
       "</style>\n",
       "<table border=\"1\" class=\"dataframe\">\n",
       "  <thead>\n",
       "    <tr style=\"text-align: right;\">\n",
       "      <th></th>\n",
       "      <th>taskId</th>\n",
       "      <th>taskType</th>\n",
       "      <th>limitSdk</th>\n",
       "      <th>closeReferenceTypes</th>\n",
       "      <th>projectName</th>\n",
       "      <th>time</th>\n",
       "    </tr>\n",
       "  </thead>\n",
       "  <tbody>\n",
       "    <tr>\n",
       "      <th>lusearch-LOC</th>\n",
       "      <td>lusearch-LOC</td>\n",
       "      <td>Consistency</td>\n",
       "      <td>True</td>\n",
       "      <td>False</td>\n",
       "      <td>lusearch</td>\n",
       "      <td>0 days 00:00:14.933787</td>\n",
       "    </tr>\n",
       "    <tr>\n",
       "      <th>lusearch-LCC</th>\n",
       "      <td>lusearch-LCC</td>\n",
       "      <td>Consistency</td>\n",
       "      <td>True</td>\n",
       "      <td>True</td>\n",
       "      <td>lusearch</td>\n",
       "      <td>0 days 00:00:13.672833</td>\n",
       "    </tr>\n",
       "    <tr>\n",
       "      <th>lusearch-UCC</th>\n",
       "      <td>lusearch-UCC</td>\n",
       "      <td>Consistency</td>\n",
       "      <td>False</td>\n",
       "      <td>True</td>\n",
       "      <td>lusearch</td>\n",
       "      <td>0 days 00:01:00</td>\n",
       "    </tr>\n",
       "  </tbody>\n",
       "</table>\n",
       "</div>"
      ],
      "text/plain": [
       "                    taskId     taskType limitSdk closeReferenceTypes  \\\n",
       "lusearch-LOC  lusearch-LOC  Consistency     True               False   \n",
       "lusearch-LCC  lusearch-LCC  Consistency     True                True   \n",
       "lusearch-UCC  lusearch-UCC  Consistency    False                True   \n",
       "\n",
       "             projectName                   time  \n",
       "lusearch-LOC    lusearch 0 days 00:00:14.933787  \n",
       "lusearch-LCC    lusearch 0 days 00:00:13.672833  \n",
       "lusearch-UCC    lusearch        0 days 00:01:00  "
      ]
     },
     "metadata": {},
     "output_type": "display_data"
    }
   ],
   "source": [
    "evaluate_consistency(LuSearchResults)"
   ]
  },
  {
   "cell_type": "markdown",
   "id": "8c3a838d-c58a-442e-900c-eb755b2af3c1",
   "metadata": {},
   "source": [
    "### Classification"
   ]
  },
  {
   "cell_type": "code",
   "execution_count": 36,
   "id": "edbfc567-5058-4fa5-b417-836500b30d81",
   "metadata": {
    "tags": []
   },
   "outputs": [
    {
     "data": {
      "image/png": "[encoded data removed]",
      "text/plain": [
       "<Figure size 432x288 with 1 Axes>"
      ]
     },
     "metadata": {
      "needs_background": "light"
     },
     "output_type": "display_data"
    },
    {
     "data": {
      "text/html": [
       "<div>\n",
       "<style scoped>\n",
       "    .dataframe tbody tr th:only-of-type {\n",
       "        vertical-align: middle;\n",
       "    }\n",
       "\n",
       "    .dataframe tbody tr th {\n",
       "        vertical-align: top;\n",
       "    }\n",
       "\n",
       "    .dataframe thead th {\n",
       "        text-align: right;\n",
       "    }\n",
       "</style>\n",
       "<table border=\"1\" class=\"dataframe\">\n",
       "  <thead>\n",
       "    <tr style=\"text-align: right;\">\n",
       "      <th></th>\n",
       "      <th>taskId</th>\n",
       "      <th>taskType</th>\n",
       "      <th>limitSdk</th>\n",
       "      <th>closeReferenceTypes</th>\n",
       "      <th>projectName</th>\n",
       "      <th>time</th>\n",
       "    </tr>\n",
       "  </thead>\n",
       "  <tbody>\n",
       "    <tr>\n",
       "      <th>lusearch-LOS</th>\n",
       "      <td>lusearch-LOS</td>\n",
       "      <td>Classification</td>\n",
       "      <td>True</td>\n",
       "      <td>False</td>\n",
       "      <td>lusearch</td>\n",
       "      <td>0 days 00:01:00</td>\n",
       "    </tr>\n",
       "    <tr>\n",
       "      <th>lusearch-LCS</th>\n",
       "      <td>lusearch-LCS</td>\n",
       "      <td>Classification</td>\n",
       "      <td>True</td>\n",
       "      <td>True</td>\n",
       "      <td>lusearch</td>\n",
       "      <td>0 days 00:01:00</td>\n",
       "    </tr>\n",
       "    <tr>\n",
       "      <th>lusearch-UCS</th>\n",
       "      <td>lusearch-UCS</td>\n",
       "      <td>Classification</td>\n",
       "      <td>False</td>\n",
       "      <td>True</td>\n",
       "      <td>lusearch</td>\n",
       "      <td>0 days 00:01:00</td>\n",
       "    </tr>\n",
       "  </tbody>\n",
       "</table>\n",
       "</div>"
      ],
      "text/plain": [
       "                    taskId        taskType limitSdk closeReferenceTypes  \\\n",
       "lusearch-LOS  lusearch-LOS  Classification     True               False   \n",
       "lusearch-LCS  lusearch-LCS  Classification     True                True   \n",
       "lusearch-UCS  lusearch-UCS  Classification    False                True   \n",
       "\n",
       "             projectName            time  \n",
       "lusearch-LOS    lusearch 0 days 00:01:00  \n",
       "lusearch-LCS    lusearch 0 days 00:01:00  \n",
       "lusearch-UCS    lusearch 0 days 00:01:00  "
      ]
     },
     "metadata": {},
     "output_type": "display_data"
    }
   ],
   "source": [
    "evaluate_classification(LuSearchResults)"
   ]
  },
  {
   "cell_type": "markdown",
   "id": "15056eef-169e-4535-b496-1675047d5c73",
   "metadata": {},
   "source": [
    "### Realisation"
   ]
  },
  {
   "cell_type": "code",
   "execution_count": 37,
   "id": "d110b4ee-f5fa-47cb-a002-e7ebcb51af77",
   "metadata": {
    "tags": []
   },
   "outputs": [
    {
     "data": {
      "image/png": "[encoded data removed]",
      "text/plain": [
       "<Figure size 432x288 with 1 Axes>"
      ]
     },
     "metadata": {
      "needs_background": "light"
     },
     "output_type": "display_data"
    },
    {
     "data": {
      "text/html": [
       "<div>\n",
       "<style scoped>\n",
       "    .dataframe tbody tr th:only-of-type {\n",
       "        vertical-align: middle;\n",
       "    }\n",
       "\n",
       "    .dataframe tbody tr th {\n",
       "        vertical-align: top;\n",
       "    }\n",
       "\n",
       "    .dataframe thead th {\n",
       "        text-align: right;\n",
       "    }\n",
       "</style>\n",
       "<table border=\"1\" class=\"dataframe\">\n",
       "  <thead>\n",
       "    <tr style=\"text-align: right;\">\n",
       "      <th></th>\n",
       "      <th>taskId</th>\n",
       "      <th>taskType</th>\n",
       "      <th>limitSdk</th>\n",
       "      <th>closeReferenceTypes</th>\n",
       "      <th>projectName</th>\n",
       "      <th>time</th>\n",
       "    </tr>\n",
       "  </thead>\n",
       "  <tbody>\n",
       "    <tr>\n",
       "      <th>lusearch-LOR</th>\n",
       "      <td>lusearch-LOR</td>\n",
       "      <td>Realisation</td>\n",
       "      <td>True</td>\n",
       "      <td>False</td>\n",
       "      <td>lusearch</td>\n",
       "      <td>0 days 00:01:00</td>\n",
       "    </tr>\n",
       "    <tr>\n",
       "      <th>lusearch-LCR</th>\n",
       "      <td>lusearch-LCR</td>\n",
       "      <td>Realisation</td>\n",
       "      <td>True</td>\n",
       "      <td>True</td>\n",
       "      <td>lusearch</td>\n",
       "      <td>0 days 00:01:00</td>\n",
       "    </tr>\n",
       "    <tr>\n",
       "      <th>lusearch-UCR</th>\n",
       "      <td>lusearch-UCR</td>\n",
       "      <td>Realisation</td>\n",
       "      <td>False</td>\n",
       "      <td>True</td>\n",
       "      <td>lusearch</td>\n",
       "      <td>0 days 00:01:00</td>\n",
       "    </tr>\n",
       "  </tbody>\n",
       "</table>\n",
       "</div>"
      ],
      "text/plain": [
       "                    taskId     taskType limitSdk closeReferenceTypes  \\\n",
       "lusearch-LOR  lusearch-LOR  Realisation     True               False   \n",
       "lusearch-LCR  lusearch-LCR  Realisation     True                True   \n",
       "lusearch-UCR  lusearch-UCR  Realisation    False                True   \n",
       "\n",
       "             projectName            time  \n",
       "lusearch-LOR    lusearch 0 days 00:01:00  \n",
       "lusearch-LCR    lusearch 0 days 00:01:00  \n",
       "lusearch-UCR    lusearch 0 days 00:01:00  "
      ]
     },
     "metadata": {},
     "output_type": "display_data"
    }
   ],
   "source": [
    "evaluate_realisation(LuSearchResults)"
   ]
  },
  {
   "cell_type": "markdown",
   "id": "897614e2-d432-419e-9288-ad45ecbbcd16",
   "metadata": {},
   "source": [
    "## Combined Examples"
   ]
  },
  {
   "cell_type": "markdown",
   "id": "05f2dcad-0138-41b4-b0c4-472700f49728",
   "metadata": {},
   "source": [
    "### Knowledge Base Building"
   ]
  },
  {
   "cell_type": "code",
   "execution_count": 38,
   "id": "c8878cbd-dea3-4d5c-b944-3f1c491df24b",
   "metadata": {
    "tags": []
   },
   "outputs": [
    {
     "data": {
      "image/png": "[encoded data removed]",
      "text/plain": [
       "<Figure size 432x288 with 1 Axes>"
      ]
     },
     "metadata": {
      "needs_background": "light"
     },
     "output_type": "display_data"
    },
    {
     "data": {
      "text/html": [
       "<div>\n",
       "<style scoped>\n",
       "    .dataframe tbody tr th:only-of-type {\n",
       "        vertical-align: middle;\n",
       "    }\n",
       "\n",
       "    .dataframe tbody tr th {\n",
       "        vertical-align: top;\n",
       "    }\n",
       "\n",
       "    .dataframe thead th {\n",
       "        text-align: right;\n",
       "    }\n",
       "</style>\n",
       "<table border=\"1\" class=\"dataframe\">\n",
       "  <thead>\n",
       "    <tr style=\"text-align: right;\">\n",
       "      <th></th>\n",
       "      <th>taskId</th>\n",
       "      <th>taskType</th>\n",
       "      <th>limitSdk</th>\n",
       "      <th>closeReferenceTypes</th>\n",
       "      <th>projectName</th>\n",
       "      <th>time</th>\n",
       "    </tr>\n",
       "  </thead>\n",
       "  <tbody>\n",
       "    <tr>\n",
       "      <th>HelloWorld-LOK</th>\n",
       "      <td>HelloWorld-LOK</td>\n",
       "      <td>Knowledge Base Building</td>\n",
       "      <td>True</td>\n",
       "      <td>False</td>\n",
       "      <td>HelloWorld</td>\n",
       "      <td>0 days 00:00:02.429495</td>\n",
       "    </tr>\n",
       "    <tr>\n",
       "      <th>HelloWorld-LCK</th>\n",
       "      <td>HelloWorld-LCK</td>\n",
       "      <td>Knowledge Base Building</td>\n",
       "      <td>True</td>\n",
       "      <td>True</td>\n",
       "      <td>HelloWorld</td>\n",
       "      <td>0 days 00:00:02.433838</td>\n",
       "    </tr>\n",
       "    <tr>\n",
       "      <th>HelloWorld-UCK</th>\n",
       "      <td>HelloWorld-UCK</td>\n",
       "      <td>Knowledge Base Building</td>\n",
       "      <td>False</td>\n",
       "      <td>True</td>\n",
       "      <td>HelloWorld</td>\n",
       "      <td>0 days 00:00:07.603074</td>\n",
       "    </tr>\n",
       "    <tr>\n",
       "      <th>lusearch-LOK</th>\n",
       "      <td>lusearch-LOK</td>\n",
       "      <td>Knowledge Base Building</td>\n",
       "      <td>True</td>\n",
       "      <td>False</td>\n",
       "      <td>lusearch</td>\n",
       "      <td>0 days 00:00:04.408941</td>\n",
       "    </tr>\n",
       "    <tr>\n",
       "      <th>lusearch-LCK</th>\n",
       "      <td>lusearch-LCK</td>\n",
       "      <td>Knowledge Base Building</td>\n",
       "      <td>True</td>\n",
       "      <td>True</td>\n",
       "      <td>lusearch</td>\n",
       "      <td>0 days 00:00:06.893666</td>\n",
       "    </tr>\n",
       "    <tr>\n",
       "      <th>lusearch-UCK</th>\n",
       "      <td>lusearch-UCK</td>\n",
       "      <td>Knowledge Base Building</td>\n",
       "      <td>False</td>\n",
       "      <td>True</td>\n",
       "      <td>lusearch</td>\n",
       "      <td>0 days 00:00:35.364851</td>\n",
       "    </tr>\n",
       "  </tbody>\n",
       "</table>\n",
       "</div>"
      ],
      "text/plain": [
       "                        taskId                 taskType limitSdk  \\\n",
       "HelloWorld-LOK  HelloWorld-LOK  Knowledge Base Building     True   \n",
       "HelloWorld-LCK  HelloWorld-LCK  Knowledge Base Building     True   \n",
       "HelloWorld-UCK  HelloWorld-UCK  Knowledge Base Building    False   \n",
       "lusearch-LOK      lusearch-LOK  Knowledge Base Building     True   \n",
       "lusearch-LCK      lusearch-LCK  Knowledge Base Building     True   \n",
       "lusearch-UCK      lusearch-UCK  Knowledge Base Building    False   \n",
       "\n",
       "               closeReferenceTypes projectName                   time  \n",
       "HelloWorld-LOK               False  HelloWorld 0 days 00:00:02.429495  \n",
       "HelloWorld-LCK                True  HelloWorld 0 days 00:00:02.433838  \n",
       "HelloWorld-UCK                True  HelloWorld 0 days 00:00:07.603074  \n",
       "lusearch-LOK                 False    lusearch 0 days 00:00:04.408941  \n",
       "lusearch-LCK                  True    lusearch 0 days 00:00:06.893666  \n",
       "lusearch-UCK                  True    lusearch 0 days 00:00:35.364851  "
      ]
     },
     "metadata": {},
     "output_type": "display_data"
    }
   ],
   "source": [
    "evaluate_kbbuilding(results)"
   ]
  },
  {
   "cell_type": "markdown",
   "id": "a2d3a0a4-b0dd-4bd8-8ff2-a843c718e1f0",
   "metadata": {},
   "source": [
    "### Consistency"
   ]
  },
  {
   "cell_type": "code",
   "execution_count": 39,
   "id": "f8e85f5e-4dfa-4386-b758-ff6022754647",
   "metadata": {
    "tags": []
   },
   "outputs": [
    {
     "data": {
      "image/png": "[encoded data removed]",
      "text/plain": [
       "<Figure size 432x288 with 1 Axes>"
      ]
     },
     "metadata": {
      "needs_background": "light"
     },
     "output_type": "display_data"
    },
    {
     "data": {
      "text/html": [
       "<div>\n",
       "<style scoped>\n",
       "    .dataframe tbody tr th:only-of-type {\n",
       "        vertical-align: middle;\n",
       "    }\n",
       "\n",
       "    .dataframe tbody tr th {\n",
       "        vertical-align: top;\n",
       "    }\n",
       "\n",
       "    .dataframe thead th {\n",
       "        text-align: right;\n",
       "    }\n",
       "</style>\n",
       "<table border=\"1\" class=\"dataframe\">\n",
       "  <thead>\n",
       "    <tr style=\"text-align: right;\">\n",
       "      <th></th>\n",
       "      <th>taskId</th>\n",
       "      <th>taskType</th>\n",
       "      <th>limitSdk</th>\n",
       "      <th>closeReferenceTypes</th>\n",
       "      <th>projectName</th>\n",
       "      <th>time</th>\n",
       "    </tr>\n",
       "  </thead>\n",
       "  <tbody>\n",
       "    <tr>\n",
       "      <th>HelloWorld-LOC</th>\n",
       "      <td>HelloWorld-LOC</td>\n",
       "      <td>Consistency</td>\n",
       "      <td>True</td>\n",
       "      <td>False</td>\n",
       "      <td>HelloWorld</td>\n",
       "      <td>0 days 00:00:01.641340</td>\n",
       "    </tr>\n",
       "    <tr>\n",
       "      <th>HelloWorld-LCC</th>\n",
       "      <td>HelloWorld-LCC</td>\n",
       "      <td>Consistency</td>\n",
       "      <td>True</td>\n",
       "      <td>True</td>\n",
       "      <td>HelloWorld</td>\n",
       "      <td>0 days 00:00:01.480810</td>\n",
       "    </tr>\n",
       "    <tr>\n",
       "      <th>HelloWorld-UCC</th>\n",
       "      <td>HelloWorld-UCC</td>\n",
       "      <td>Consistency</td>\n",
       "      <td>False</td>\n",
       "      <td>True</td>\n",
       "      <td>HelloWorld</td>\n",
       "      <td>0 days 00:00:26.004144</td>\n",
       "    </tr>\n",
       "    <tr>\n",
       "      <th>lusearch-LOC</th>\n",
       "      <td>lusearch-LOC</td>\n",
       "      <td>Consistency</td>\n",
       "      <td>True</td>\n",
       "      <td>False</td>\n",
       "      <td>lusearch</td>\n",
       "      <td>0 days 00:00:14.933787</td>\n",
       "    </tr>\n",
       "    <tr>\n",
       "      <th>lusearch-LCC</th>\n",
       "      <td>lusearch-LCC</td>\n",
       "      <td>Consistency</td>\n",
       "      <td>True</td>\n",
       "      <td>True</td>\n",
       "      <td>lusearch</td>\n",
       "      <td>0 days 00:00:13.672833</td>\n",
       "    </tr>\n",
       "    <tr>\n",
       "      <th>lusearch-UCC</th>\n",
       "      <td>lusearch-UCC</td>\n",
       "      <td>Consistency</td>\n",
       "      <td>False</td>\n",
       "      <td>True</td>\n",
       "      <td>lusearch</td>\n",
       "      <td>0 days 00:01:00</td>\n",
       "    </tr>\n",
       "  </tbody>\n",
       "</table>\n",
       "</div>"
      ],
      "text/plain": [
       "                        taskId     taskType limitSdk closeReferenceTypes  \\\n",
       "HelloWorld-LOC  HelloWorld-LOC  Consistency     True               False   \n",
       "HelloWorld-LCC  HelloWorld-LCC  Consistency     True                True   \n",
       "HelloWorld-UCC  HelloWorld-UCC  Consistency    False                True   \n",
       "lusearch-LOC      lusearch-LOC  Consistency     True               False   \n",
       "lusearch-LCC      lusearch-LCC  Consistency     True                True   \n",
       "lusearch-UCC      lusearch-UCC  Consistency    False                True   \n",
       "\n",
       "               projectName                   time  \n",
       "HelloWorld-LOC  HelloWorld 0 days 00:00:01.641340  \n",
       "HelloWorld-LCC  HelloWorld 0 days 00:00:01.480810  \n",
       "HelloWorld-UCC  HelloWorld 0 days 00:00:26.004144  \n",
       "lusearch-LOC      lusearch 0 days 00:00:14.933787  \n",
       "lusearch-LCC      lusearch 0 days 00:00:13.672833  \n",
       "lusearch-UCC      lusearch        0 days 00:01:00  "
      ]
     },
     "metadata": {},
     "output_type": "display_data"
    }
   ],
   "source": [
    "evaluate_consistency(results)"
   ]
  },
  {
   "cell_type": "markdown",
   "id": "d523f257-60aa-4c05-9a15-26480d0743b5",
   "metadata": {},
   "source": [
    "### Classification"
   ]
  },
  {
   "cell_type": "code",
   "execution_count": 40,
   "id": "19a2c95d-5096-4d6a-9074-b65156242b52",
   "metadata": {
    "tags": []
   },
   "outputs": [
    {
     "data": {
      "image/png": "[encoded data removed]",
      "text/plain": [
       "<Figure size 432x288 with 1 Axes>"
      ]
     },
     "metadata": {
      "needs_background": "light"
     },
     "output_type": "display_data"
    },
    {
     "data": {
      "text/html": [
       "<div>\n",
       "<style scoped>\n",
       "    .dataframe tbody tr th:only-of-type {\n",
       "        vertical-align: middle;\n",
       "    }\n",
       "\n",
       "    .dataframe tbody tr th {\n",
       "        vertical-align: top;\n",
       "    }\n",
       "\n",
       "    .dataframe thead th {\n",
       "        text-align: right;\n",
       "    }\n",
       "</style>\n",
       "<table border=\"1\" class=\"dataframe\">\n",
       "  <thead>\n",
       "    <tr style=\"text-align: right;\">\n",
       "      <th></th>\n",
       "      <th>taskId</th>\n",
       "      <th>taskType</th>\n",
       "      <th>limitSdk</th>\n",
       "      <th>closeReferenceTypes</th>\n",
       "      <th>projectName</th>\n",
       "      <th>time</th>\n",
       "    </tr>\n",
       "  </thead>\n",
       "  <tbody>\n",
       "    <tr>\n",
       "      <th>HelloWorld-LOS</th>\n",
       "      <td>HelloWorld-LOS</td>\n",
       "      <td>Classification</td>\n",
       "      <td>True</td>\n",
       "      <td>False</td>\n",
       "      <td>HelloWorld</td>\n",
       "      <td>0 days 00:00:04.492044</td>\n",
       "    </tr>\n",
       "    <tr>\n",
       "      <th>HelloWorld-LCS</th>\n",
       "      <td>HelloWorld-LCS</td>\n",
       "      <td>Classification</td>\n",
       "      <td>True</td>\n",
       "      <td>True</td>\n",
       "      <td>HelloWorld</td>\n",
       "      <td>0 days 00:00:04.623765</td>\n",
       "    </tr>\n",
       "    <tr>\n",
       "      <th>HelloWorld-UCS</th>\n",
       "      <td>HelloWorld-UCS</td>\n",
       "      <td>Classification</td>\n",
       "      <td>False</td>\n",
       "      <td>True</td>\n",
       "      <td>HelloWorld</td>\n",
       "      <td>0 days 00:01:00</td>\n",
       "    </tr>\n",
       "    <tr>\n",
       "      <th>lusearch-LOS</th>\n",
       "      <td>lusearch-LOS</td>\n",
       "      <td>Classification</td>\n",
       "      <td>True</td>\n",
       "      <td>False</td>\n",
       "      <td>lusearch</td>\n",
       "      <td>0 days 00:01:00</td>\n",
       "    </tr>\n",
       "    <tr>\n",
       "      <th>lusearch-LCS</th>\n",
       "      <td>lusearch-LCS</td>\n",
       "      <td>Classification</td>\n",
       "      <td>True</td>\n",
       "      <td>True</td>\n",
       "      <td>lusearch</td>\n",
       "      <td>0 days 00:01:00</td>\n",
       "    </tr>\n",
       "    <tr>\n",
       "      <th>lusearch-UCS</th>\n",
       "      <td>lusearch-UCS</td>\n",
       "      <td>Classification</td>\n",
       "      <td>False</td>\n",
       "      <td>True</td>\n",
       "      <td>lusearch</td>\n",
       "      <td>0 days 00:01:00</td>\n",
       "    </tr>\n",
       "  </tbody>\n",
       "</table>\n",
       "</div>"
      ],
      "text/plain": [
       "                        taskId        taskType limitSdk closeReferenceTypes  \\\n",
       "HelloWorld-LOS  HelloWorld-LOS  Classification     True               False   \n",
       "HelloWorld-LCS  HelloWorld-LCS  Classification     True                True   \n",
       "HelloWorld-UCS  HelloWorld-UCS  Classification    False                True   \n",
       "lusearch-LOS      lusearch-LOS  Classification     True               False   \n",
       "lusearch-LCS      lusearch-LCS  Classification     True                True   \n",
       "lusearch-UCS      lusearch-UCS  Classification    False                True   \n",
       "\n",
       "               projectName                   time  \n",
       "HelloWorld-LOS  HelloWorld 0 days 00:00:04.492044  \n",
       "HelloWorld-LCS  HelloWorld 0 days 00:00:04.623765  \n",
       "HelloWorld-UCS  HelloWorld        0 days 00:01:00  \n",
       "lusearch-LOS      lusearch        0 days 00:01:00  \n",
       "lusearch-LCS      lusearch        0 days 00:01:00  \n",
       "lusearch-UCS      lusearch        0 days 00:01:00  "
      ]
     },
     "metadata": {},
     "output_type": "display_data"
    }
   ],
   "source": [
    "evaluate_classification(results)"
   ]
  },
  {
   "cell_type": "markdown",
   "id": "6f43e7d2-c393-4efb-a66b-55ac019b128e",
   "metadata": {},
   "source": [
    "### Realisation"
   ]
  },
  {
   "cell_type": "code",
   "execution_count": 41,
   "id": "30744997-eb74-46c9-97a7-ea953864bc57",
   "metadata": {
    "tags": []
   },
   "outputs": [
    {
     "data": {
      "image/png": "[encoded data removed]",
      "text/plain": [
       "<Figure size 432x288 with 1 Axes>"
      ]
     },
     "metadata": {
      "needs_background": "light"
     },
     "output_type": "display_data"
    },
    {
     "data": {
      "text/html": [
       "<div>\n",
       "<style scoped>\n",
       "    .dataframe tbody tr th:only-of-type {\n",
       "        vertical-align: middle;\n",
       "    }\n",
       "\n",
       "    .dataframe tbody tr th {\n",
       "        vertical-align: top;\n",
       "    }\n",
       "\n",
       "    .dataframe thead th {\n",
       "        text-align: right;\n",
       "    }\n",
       "</style>\n",
       "<table border=\"1\" class=\"dataframe\">\n",
       "  <thead>\n",
       "    <tr style=\"text-align: right;\">\n",
       "      <th></th>\n",
       "      <th>taskId</th>\n",
       "      <th>taskType</th>\n",
       "      <th>limitSdk</th>\n",
       "      <th>closeReferenceTypes</th>\n",
       "      <th>projectName</th>\n",
       "      <th>time</th>\n",
       "    </tr>\n",
       "  </thead>\n",
       "  <tbody>\n",
       "    <tr>\n",
       "      <th>HelloWorld-LOR</th>\n",
       "      <td>HelloWorld-LOR</td>\n",
       "      <td>Realisation</td>\n",
       "      <td>True</td>\n",
       "      <td>False</td>\n",
       "      <td>HelloWorld</td>\n",
       "      <td>0 days 00:00:04.558723</td>\n",
       "    </tr>\n",
       "    <tr>\n",
       "      <th>HelloWorld-LCR</th>\n",
       "      <td>HelloWorld-LCR</td>\n",
       "      <td>Realisation</td>\n",
       "      <td>True</td>\n",
       "      <td>True</td>\n",
       "      <td>HelloWorld</td>\n",
       "      <td>0 days 00:00:04.132125</td>\n",
       "    </tr>\n",
       "    <tr>\n",
       "      <th>HelloWorld-UCR</th>\n",
       "      <td>HelloWorld-UCR</td>\n",
       "      <td>Realisation</td>\n",
       "      <td>False</td>\n",
       "      <td>True</td>\n",
       "      <td>HelloWorld</td>\n",
       "      <td>0 days 00:01:00</td>\n",
       "    </tr>\n",
       "    <tr>\n",
       "      <th>lusearch-LOR</th>\n",
       "      <td>lusearch-LOR</td>\n",
       "      <td>Realisation</td>\n",
       "      <td>True</td>\n",
       "      <td>False</td>\n",
       "      <td>lusearch</td>\n",
       "      <td>0 days 00:01:00</td>\n",
       "    </tr>\n",
       "    <tr>\n",
       "      <th>lusearch-LCR</th>\n",
       "      <td>lusearch-LCR</td>\n",
       "      <td>Realisation</td>\n",
       "      <td>True</td>\n",
       "      <td>True</td>\n",
       "      <td>lusearch</td>\n",
       "      <td>0 days 00:01:00</td>\n",
       "    </tr>\n",
       "    <tr>\n",
       "      <th>lusearch-UCR</th>\n",
       "      <td>lusearch-UCR</td>\n",
       "      <td>Realisation</td>\n",
       "      <td>False</td>\n",
       "      <td>True</td>\n",
       "      <td>lusearch</td>\n",
       "      <td>0 days 00:01:00</td>\n",
       "    </tr>\n",
       "  </tbody>\n",
       "</table>\n",
       "</div>"
      ],
      "text/plain": [
       "                        taskId     taskType limitSdk closeReferenceTypes  \\\n",
       "HelloWorld-LOR  HelloWorld-LOR  Realisation     True               False   \n",
       "HelloWorld-LCR  HelloWorld-LCR  Realisation     True                True   \n",
       "HelloWorld-UCR  HelloWorld-UCR  Realisation    False                True   \n",
       "lusearch-LOR      lusearch-LOR  Realisation     True               False   \n",
       "lusearch-LCR      lusearch-LCR  Realisation     True                True   \n",
       "lusearch-UCR      lusearch-UCR  Realisation    False                True   \n",
       "\n",
       "               projectName                   time  \n",
       "HelloWorld-LOR  HelloWorld 0 days 00:00:04.558723  \n",
       "HelloWorld-LCR  HelloWorld 0 days 00:00:04.132125  \n",
       "HelloWorld-UCR  HelloWorld        0 days 00:01:00  \n",
       "lusearch-LOR      lusearch        0 days 00:01:00  \n",
       "lusearch-LCR      lusearch        0 days 00:01:00  \n",
       "lusearch-UCR      lusearch        0 days 00:01:00  "
      ]
     },
     "metadata": {},
     "output_type": "display_data"
    }
   ],
   "source": [
    "evaluate_realisation(results)"
   ]
  }
 ],
 "metadata": {
  "kernelspec": {
   "display_name": "SJDB-Evalutation-Venv",
   "language": "python",
   "name": "sjdb-evalutation-venv"
  },
  "language_info": {
   "codemirror_mode": {
    "name": "ipython",
    "version": 3
   },
   "file_extension": ".py",
   "mimetype": "text/x-python",
   "name": "python",
   "nbconvert_exporter": "python",
   "pygments_lexer": "ipython3",
   "version": "3.10.2"
  }
 },
 "nbformat": 4,
 "nbformat_minor": 5
}
